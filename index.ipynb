{
 "cells": [
  {
   "cell_type": "markdown",
   "metadata": {},
   "source": [
    "# Exploring and Transforming JSON Schemas"
   ]
  },
  {
   "cell_type": "markdown",
   "metadata": {},
   "source": [
    "# Introduction\n",
    "\n",
    "In this lesson, you'll formalize how to explore a JSON file whose structure and schema is unknown to you. This often happens in practice when you are handed a file or stumble upon one with little documentation."
   ]
  },
  {
   "cell_type": "markdown",
   "metadata": {},
   "source": [
    "## Objectives\n",
    "You will be able to:\n",
    "* Use the JSON module to load and parse JSON documents\n",
    "* Load and explore unknown JSON schemas\n",
    "* Convert JSON to a pandas dataframe"
   ]
  },
  {
   "cell_type": "markdown",
   "metadata": {},
   "source": [
    "## Loading the JSON file\n",
    "\n",
    "Load the data from the file `disease_data.json`."
   ]
  },
  {
   "cell_type": "code",
   "execution_count": 2,
   "metadata": {},
   "outputs": [],
   "source": [
    "#Your code here \n",
    "import json"
   ]
  },
  {
   "cell_type": "code",
   "execution_count": 7,
   "metadata": {},
   "outputs": [],
   "source": [
    "f = open('disease_data.json')\n",
    "disease = json.load(f)"
   ]
  },
  {
   "cell_type": "markdown",
   "metadata": {},
   "source": [
    "## Explore the first and second levels of the schema hierarchy"
   ]
  },
  {
   "cell_type": "code",
   "execution_count": 8,
   "metadata": {},
   "outputs": [
    {
     "data": {
      "text/plain": [
       "dict"
      ]
     },
     "execution_count": 8,
     "metadata": {},
     "output_type": "execute_result"
    }
   ],
   "source": [
    "#Your code here\n",
    "type(disease)"
   ]
  },
  {
   "cell_type": "code",
   "execution_count": 18,
   "metadata": {},
   "outputs": [
    {
     "data": {
      "text/plain": [
       "dict_keys(['meta', 'data'])"
      ]
     },
     "execution_count": 18,
     "metadata": {},
     "output_type": "execute_result"
    }
   ],
   "source": [
    "disease.keys()"
   ]
  },
  {
   "cell_type": "code",
   "execution_count": 27,
   "metadata": {},
   "outputs": [
    {
     "data": {
      "text/plain": [
       "dict"
      ]
     },
     "execution_count": 27,
     "metadata": {},
     "output_type": "execute_result"
    }
   ],
   "source": [
    "\n",
    "type(disease['meta'])"
   ]
  },
  {
   "cell_type": "code",
   "execution_count": 44,
   "metadata": {},
   "outputs": [
    {
     "data": {
      "text/plain": [
       "dict_keys(['view'])"
      ]
     },
     "execution_count": 44,
     "metadata": {},
     "output_type": "execute_result"
    }
   ],
   "source": [
    "disease['meta'].keys()"
   ]
  },
  {
   "cell_type": "code",
   "execution_count": 46,
   "metadata": {},
   "outputs": [
    {
     "data": {
      "text/plain": [
       "42"
      ]
     },
     "execution_count": 46,
     "metadata": {},
     "output_type": "execute_result"
    }
   ],
   "source": [
    "# number of columns\n",
    "\n",
    "len(disease['data'][0])"
   ]
  },
  {
   "cell_type": "code",
   "execution_count": 34,
   "metadata": {},
   "outputs": [
    {
     "name": "stdout",
     "output_type": "stream",
     "text": [
      "view <class 'dict_keys'>\n"
     ]
    }
   ],
   "source": [
    "for key in disease['meta'].keys():\n",
    "    print(key, type(disease['meta'].keys()))"
   ]
  },
  {
   "cell_type": "markdown",
   "metadata": {},
   "source": [
    "## Convert to a DataFrame\n",
    "\n",
    "Create a DataFrame from the JSON file. Be sure to retrive the column names for the dataframe. (Search within the 'meta' key of the master dictionary.) The DataFrame should include all 42 columns."
   ]
  },
  {
   "cell_type": "code",
   "execution_count": 47,
   "metadata": {},
   "outputs": [],
   "source": [
    "#Your code here\n",
    "import pandas as pd\n",
    "\n"
   ]
  },
  {
   "cell_type": "code",
   "execution_count": 59,
   "metadata": {},
   "outputs": [
    {
     "name": "stdout",
     "output_type": "stream",
     "text": [
      "(60266, 42)\n",
      "Index(['sid', 'id', 'position', 'created_at', 'created_meta', 'updated_at',\n",
      "       'updated_meta', 'meta', 'YearStart', 'YearEnd', 'LocationAbbr',\n",
      "       'LocationDesc', 'DataSource', 'Topic', 'Question', 'Response',\n",
      "       'DataValueUnit', 'DataValueType', 'DataValue', 'DataValueAlt',\n",
      "       'DataValueFootnoteSymbol', 'DatavalueFootnote', 'LowConfidenceLimit',\n",
      "       'HighConfidenceLimit', 'StratificationCategory1', 'Stratification1',\n",
      "       'StratificationCategory2', 'Stratification2', 'StratificationCategory3',\n",
      "       'Stratification3', 'GeoLocation', 'ResponseID', 'LocationID', 'TopicID',\n",
      "       'QuestionID', 'DataValueTypeID', 'StratificationCategoryID1',\n",
      "       'StratificationID1', 'StratificationCategoryID2', 'StratificationID2',\n",
      "       'StratificationCategoryID3', 'StratificationID3'],\n",
      "      dtype='object')\n",
      "<class 'pandas.core.frame.DataFrame'>\n",
      "RangeIndex: 60266 entries, 0 to 60265\n",
      "Data columns (total 42 columns):\n",
      "sid                          60266 non-null int64\n",
      "id                           60266 non-null object\n",
      "position                     60266 non-null int64\n",
      "created_at                   60266 non-null int64\n",
      "created_meta                 60266 non-null object\n",
      "updated_at                   60266 non-null int64\n",
      "updated_meta                 60266 non-null object\n",
      "meta                         0 non-null object\n",
      "YearStart                    60266 non-null object\n",
      "YearEnd                      60266 non-null object\n",
      "LocationAbbr                 60266 non-null object\n",
      "LocationDesc                 60266 non-null object\n",
      "DataSource                   60266 non-null object\n",
      "Topic                        60266 non-null object\n",
      "Question                     60266 non-null object\n",
      "Response                     0 non-null object\n",
      "DataValueUnit                60158 non-null object\n",
      "DataValueType                60266 non-null object\n",
      "DataValue                    39597 non-null object\n",
      "DataValueAlt                 39495 non-null object\n",
      "DataValueFootnoteSymbol      21043 non-null object\n",
      "DatavalueFootnote            21043 non-null object\n",
      "LowConfidenceLimit           39260 non-null object\n",
      "HighConfidenceLimit          39260 non-null object\n",
      "StratificationCategory1      60266 non-null object\n",
      "Stratification1              60266 non-null object\n",
      "StratificationCategory2      0 non-null object\n",
      "Stratification2              0 non-null object\n",
      "StratificationCategory3      0 non-null object\n",
      "Stratification3              0 non-null object\n",
      "GeoLocation                  60266 non-null object\n",
      "ResponseID                   0 non-null object\n",
      "LocationID                   60266 non-null object\n",
      "TopicID                      60266 non-null object\n",
      "QuestionID                   60266 non-null object\n",
      "DataValueTypeID              60266 non-null object\n",
      "StratificationCategoryID1    60266 non-null object\n",
      "StratificationID1            60266 non-null object\n",
      "StratificationCategoryID2    0 non-null object\n",
      "StratificationID2            0 non-null object\n",
      "StratificationCategoryID3    0 non-null object\n",
      "StratificationID3            0 non-null object\n",
      "dtypes: int64(4), object(38)\n",
      "memory usage: 19.3+ MB\n"
     ]
    }
   ],
   "source": [
    "df = pd.DataFrame(disease['data'])\n",
    "print(df.shape)\n",
    "df.columns = [item['name'] for item in disease['meta']['view']['columns']]\n",
    "print(df.columns)\n",
    "df.head()\n",
    "df.info()"
   ]
  },
  {
   "cell_type": "markdown",
   "metadata": {},
   "source": [
    "## Level-Up\n",
    "## Create a bar graph of states with the highest asthma rates for adults age 18+"
   ]
  },
  {
   "cell_type": "code",
   "execution_count": 70,
   "metadata": {},
   "outputs": [
    {
     "data": {
      "text/plain": [
       "Current asthma prevalence among adults aged >= 18 years                                    0.186096\n",
       "Influenza vaccination among noninstitutionalized adults aged >= 65 years with asthma       0.372193\n",
       "Pneumococcal vaccination among noninstitutionalized adults aged 18-64 years with asthma    0.558289\n",
       "Pneumococcal vaccination among noninstitutionalized adults aged >= 65 years with asthma    0.744385\n",
       "Influenza vaccination among noninstitutionalized adults aged 18-64 years with asthma       0.930481\n",
       "Asthma prevalence among women aged 18-44 years                                             1.000000\n",
       "Name: Question, dtype: float64"
      ]
     },
     "execution_count": 70,
     "metadata": {},
     "output_type": "execute_result"
    }
   ],
   "source": [
    "df[df.Topic == 'Asthma'].Question.value_counts(normalize=True).cumsum()"
   ]
  },
  {
   "cell_type": "code",
   "execution_count": 71,
   "metadata": {},
   "outputs": [
    {
     "data": {
      "text/html": [
       "<div>\n",
       "<style scoped>\n",
       "    .dataframe tbody tr th:only-of-type {\n",
       "        vertical-align: middle;\n",
       "    }\n",
       "\n",
       "    .dataframe tbody tr th {\n",
       "        vertical-align: top;\n",
       "    }\n",
       "\n",
       "    .dataframe thead th {\n",
       "        text-align: right;\n",
       "    }\n",
       "</style>\n",
       "<table border=\"1\" class=\"dataframe\">\n",
       "  <thead>\n",
       "    <tr style=\"text-align: right;\">\n",
       "      <th></th>\n",
       "      <th>LocationAbbr</th>\n",
       "      <th>LocationDesc</th>\n",
       "      <th>DataSource</th>\n",
       "      <th>Topic</th>\n",
       "      <th>Question</th>\n",
       "      <th>YearStart</th>\n",
       "      <th>YearEnd</th>\n",
       "      <th>DataValue</th>\n",
       "    </tr>\n",
       "  </thead>\n",
       "  <tbody>\n",
       "    <tr>\n",
       "      <td>4725</td>\n",
       "      <td>IL</td>\n",
       "      <td>Illinois</td>\n",
       "      <td>BRFSS</td>\n",
       "      <td>Asthma</td>\n",
       "      <td>Current asthma prevalence among adults aged &gt;=...</td>\n",
       "      <td>2016</td>\n",
       "      <td>2016</td>\n",
       "      <td>6.5</td>\n",
       "    </tr>\n",
       "    <tr>\n",
       "      <td>5529</td>\n",
       "      <td>IN</td>\n",
       "      <td>Indiana</td>\n",
       "      <td>BRFSS</td>\n",
       "      <td>Asthma</td>\n",
       "      <td>Current asthma prevalence among adults aged &gt;=...</td>\n",
       "      <td>2016</td>\n",
       "      <td>2016</td>\n",
       "      <td>6.7</td>\n",
       "    </tr>\n",
       "    <tr>\n",
       "      <td>5632</td>\n",
       "      <td>IA</td>\n",
       "      <td>Iowa</td>\n",
       "      <td>BRFSS</td>\n",
       "      <td>Asthma</td>\n",
       "      <td>Current asthma prevalence among adults aged &gt;=...</td>\n",
       "      <td>2016</td>\n",
       "      <td>2016</td>\n",
       "      <td>5.6</td>\n",
       "    </tr>\n",
       "    <tr>\n",
       "      <td>6777</td>\n",
       "      <td>KS</td>\n",
       "      <td>Kansas</td>\n",
       "      <td>BRFSS</td>\n",
       "      <td>Asthma</td>\n",
       "      <td>Current asthma prevalence among adults aged &gt;=...</td>\n",
       "      <td>2016</td>\n",
       "      <td>2016</td>\n",
       "      <td>6.1</td>\n",
       "    </tr>\n",
       "    <tr>\n",
       "      <td>7034</td>\n",
       "      <td>KY</td>\n",
       "      <td>Kentucky</td>\n",
       "      <td>BRFSS</td>\n",
       "      <td>Asthma</td>\n",
       "      <td>Current asthma prevalence among adults aged &gt;=...</td>\n",
       "      <td>2016</td>\n",
       "      <td>2016</td>\n",
       "      <td>6.9</td>\n",
       "    </tr>\n",
       "  </tbody>\n",
       "</table>\n",
       "</div>"
      ],
      "text/plain": [
       "     LocationAbbr LocationDesc DataSource   Topic  \\\n",
       "4725           IL     Illinois      BRFSS  Asthma   \n",
       "5529           IN      Indiana      BRFSS  Asthma   \n",
       "5632           IA         Iowa      BRFSS  Asthma   \n",
       "6777           KS       Kansas      BRFSS  Asthma   \n",
       "7034           KY     Kentucky      BRFSS  Asthma   \n",
       "\n",
       "                                               Question YearStart YearEnd  \\\n",
       "4725  Current asthma prevalence among adults aged >=...      2016    2016   \n",
       "5529  Current asthma prevalence among adults aged >=...      2016    2016   \n",
       "5632  Current asthma prevalence among adults aged >=...      2016    2016   \n",
       "6777  Current asthma prevalence among adults aged >=...      2016    2016   \n",
       "7034  Current asthma prevalence among adults aged >=...      2016    2016   \n",
       "\n",
       "     DataValue  \n",
       "4725       6.5  \n",
       "5529       6.7  \n",
       "5632       5.6  \n",
       "6777       6.1  \n",
       "7034       6.9  "
      ]
     },
     "execution_count": 71,
     "metadata": {},
     "output_type": "execute_result"
    }
   ],
   "source": [
    "#Preview the Data\n",
    "cols = ['LocationAbbr', 'LocationDesc', 'DataSource','Topic', 'Question', 'YearStart', 'YearEnd', 'DataValue']\n",
    "view = df[df.Question == 'Current asthma prevalence among adults aged >= 18 years'][cols]\n",
    "view.head()"
   ]
  },
  {
   "cell_type": "code",
   "execution_count": 73,
   "metadata": {},
   "outputs": [
    {
     "data": {
      "text/html": [
       "<div>\n",
       "<style scoped>\n",
       "    .dataframe tbody tr th:only-of-type {\n",
       "        vertical-align: middle;\n",
       "    }\n",
       "\n",
       "    .dataframe tbody tr th {\n",
       "        vertical-align: top;\n",
       "    }\n",
       "\n",
       "    .dataframe thead th {\n",
       "        text-align: right;\n",
       "    }\n",
       "</style>\n",
       "<table border=\"1\" class=\"dataframe\">\n",
       "  <thead>\n",
       "    <tr style=\"text-align: right;\">\n",
       "      <th></th>\n",
       "      <th>LocationAbbr</th>\n",
       "      <th>LocationDesc</th>\n",
       "      <th>DataSource</th>\n",
       "      <th>Topic</th>\n",
       "      <th>Question</th>\n",
       "      <th>YearStart</th>\n",
       "      <th>YearEnd</th>\n",
       "      <th>DataValue</th>\n",
       "    </tr>\n",
       "  </thead>\n",
       "  <tbody>\n",
       "    <tr>\n",
       "      <td>9797</td>\n",
       "      <td>AK</td>\n",
       "      <td>Alaska</td>\n",
       "      <td>BRFSS</td>\n",
       "      <td>Asthma</td>\n",
       "      <td>Current asthma prevalence among adults aged &gt;=...</td>\n",
       "      <td>2016</td>\n",
       "      <td>2016</td>\n",
       "      <td>None</td>\n",
       "    </tr>\n",
       "    <tr>\n",
       "      <td>10013</td>\n",
       "      <td>AK</td>\n",
       "      <td>Alaska</td>\n",
       "      <td>BRFSS</td>\n",
       "      <td>Asthma</td>\n",
       "      <td>Current asthma prevalence among adults aged &gt;=...</td>\n",
       "      <td>2016</td>\n",
       "      <td>2016</td>\n",
       "      <td>10.3</td>\n",
       "    </tr>\n",
       "    <tr>\n",
       "      <td>9427</td>\n",
       "      <td>AK</td>\n",
       "      <td>Alaska</td>\n",
       "      <td>BRFSS</td>\n",
       "      <td>Asthma</td>\n",
       "      <td>Current asthma prevalence among adults aged &gt;=...</td>\n",
       "      <td>2016</td>\n",
       "      <td>2016</td>\n",
       "      <td>9</td>\n",
       "    </tr>\n",
       "    <tr>\n",
       "      <td>9959</td>\n",
       "      <td>AK</td>\n",
       "      <td>Alaska</td>\n",
       "      <td>BRFSS</td>\n",
       "      <td>Asthma</td>\n",
       "      <td>Current asthma prevalence among adults aged &gt;=...</td>\n",
       "      <td>2016</td>\n",
       "      <td>2016</td>\n",
       "      <td>None</td>\n",
       "    </tr>\n",
       "    <tr>\n",
       "      <td>9905</td>\n",
       "      <td>AK</td>\n",
       "      <td>Alaska</td>\n",
       "      <td>BRFSS</td>\n",
       "      <td>Asthma</td>\n",
       "      <td>Current asthma prevalence among adults aged &gt;=...</td>\n",
       "      <td>2016</td>\n",
       "      <td>2016</td>\n",
       "      <td>None</td>\n",
       "    </tr>\n",
       "  </tbody>\n",
       "</table>\n",
       "</div>"
      ],
      "text/plain": [
       "      LocationAbbr LocationDesc DataSource   Topic  \\\n",
       "9797            AK       Alaska      BRFSS  Asthma   \n",
       "10013           AK       Alaska      BRFSS  Asthma   \n",
       "9427            AK       Alaska      BRFSS  Asthma   \n",
       "9959            AK       Alaska      BRFSS  Asthma   \n",
       "9905            AK       Alaska      BRFSS  Asthma   \n",
       "\n",
       "                                                Question YearStart YearEnd  \\\n",
       "9797   Current asthma prevalence among adults aged >=...      2016    2016   \n",
       "10013  Current asthma prevalence among adults aged >=...      2016    2016   \n",
       "9427   Current asthma prevalence among adults aged >=...      2016    2016   \n",
       "9959   Current asthma prevalence among adults aged >=...      2016    2016   \n",
       "9905   Current asthma prevalence among adults aged >=...      2016    2016   \n",
       "\n",
       "      DataValue  \n",
       "9797       None  \n",
       "10013      10.3  \n",
       "9427          9  \n",
       "9959       None  \n",
       "9905       None  "
      ]
     },
     "execution_count": 73,
     "metadata": {},
     "output_type": "execute_result"
    }
   ],
   "source": [
    "# Notice Multiple Entries for Some States\n",
    "view.sort_values(by='LocationAbbr').head()"
   ]
  },
  {
   "cell_type": "code",
   "execution_count": 74,
   "metadata": {},
   "outputs": [
    {
     "data": {
      "text/plain": [
       "RACE       0.631534\n",
       "GENDER     0.231673\n",
       "OVERALL    0.136794\n",
       "Name: StratificationCategoryID1, dtype: float64"
      ]
     },
     "execution_count": 74,
     "metadata": {},
     "output_type": "execute_result"
    }
   ],
   "source": [
    "df.StratificationCategoryID1.value_counts(normalize=True)"
   ]
  },
  {
   "cell_type": "code",
   "execution_count": 75,
   "metadata": {},
   "outputs": [
    {
     "name": "stdout",
     "output_type": "stream",
     "text": [
      "(110, 42)\n"
     ]
    },
    {
     "data": {
      "text/html": [
       "<div>\n",
       "<style scoped>\n",
       "    .dataframe tbody tr th:only-of-type {\n",
       "        vertical-align: middle;\n",
       "    }\n",
       "\n",
       "    .dataframe tbody tr th {\n",
       "        vertical-align: top;\n",
       "    }\n",
       "\n",
       "    .dataframe thead th {\n",
       "        text-align: right;\n",
       "    }\n",
       "</style>\n",
       "<table border=\"1\" class=\"dataframe\">\n",
       "  <thead>\n",
       "    <tr style=\"text-align: right;\">\n",
       "      <th></th>\n",
       "      <th>sid</th>\n",
       "      <th>id</th>\n",
       "      <th>position</th>\n",
       "      <th>created_at</th>\n",
       "      <th>created_meta</th>\n",
       "      <th>updated_at</th>\n",
       "      <th>updated_meta</th>\n",
       "      <th>meta</th>\n",
       "      <th>YearStart</th>\n",
       "      <th>YearEnd</th>\n",
       "      <th>...</th>\n",
       "      <th>LocationID</th>\n",
       "      <th>TopicID</th>\n",
       "      <th>QuestionID</th>\n",
       "      <th>DataValueTypeID</th>\n",
       "      <th>StratificationCategoryID1</th>\n",
       "      <th>StratificationID1</th>\n",
       "      <th>StratificationCategoryID2</th>\n",
       "      <th>StratificationID2</th>\n",
       "      <th>StratificationCategoryID3</th>\n",
       "      <th>StratificationID3</th>\n",
       "    </tr>\n",
       "  </thead>\n",
       "  <tbody>\n",
       "    <tr>\n",
       "      <td>9372</td>\n",
       "      <td>9370</td>\n",
       "      <td>5D6EDDA9-B241-4498-A262-ED20AB78C44C</td>\n",
       "      <td>9370</td>\n",
       "      <td>1527194523</td>\n",
       "      <td>959778</td>\n",
       "      <td>1527194523</td>\n",
       "      <td>959778</td>\n",
       "      <td>None</td>\n",
       "      <td>2016</td>\n",
       "      <td>2016</td>\n",
       "      <td>...</td>\n",
       "      <td>02</td>\n",
       "      <td>AST</td>\n",
       "      <td>AST1_1</td>\n",
       "      <td>CRDPREV</td>\n",
       "      <td>OVERALL</td>\n",
       "      <td>OVR</td>\n",
       "      <td>None</td>\n",
       "      <td>None</td>\n",
       "      <td>None</td>\n",
       "      <td>None</td>\n",
       "    </tr>\n",
       "    <tr>\n",
       "      <td>9427</td>\n",
       "      <td>9425</td>\n",
       "      <td>332B0889-ED65-4080-9373-D92FE918CD1D</td>\n",
       "      <td>9425</td>\n",
       "      <td>1527194523</td>\n",
       "      <td>959778</td>\n",
       "      <td>1527194523</td>\n",
       "      <td>959778</td>\n",
       "      <td>None</td>\n",
       "      <td>2016</td>\n",
       "      <td>2016</td>\n",
       "      <td>...</td>\n",
       "      <td>02</td>\n",
       "      <td>AST</td>\n",
       "      <td>AST1_1</td>\n",
       "      <td>AGEADJPREV</td>\n",
       "      <td>OVERALL</td>\n",
       "      <td>OVR</td>\n",
       "      <td>None</td>\n",
       "      <td>None</td>\n",
       "      <td>None</td>\n",
       "      <td>None</td>\n",
       "    </tr>\n",
       "    <tr>\n",
       "      <td>9426</td>\n",
       "      <td>9424</td>\n",
       "      <td>CD846EC4-617B-4D38-B287-88DCF9BA8751</td>\n",
       "      <td>9424</td>\n",
       "      <td>1527194523</td>\n",
       "      <td>959778</td>\n",
       "      <td>1527194523</td>\n",
       "      <td>959778</td>\n",
       "      <td>None</td>\n",
       "      <td>2016</td>\n",
       "      <td>2016</td>\n",
       "      <td>...</td>\n",
       "      <td>01</td>\n",
       "      <td>AST</td>\n",
       "      <td>AST1_1</td>\n",
       "      <td>AGEADJPREV</td>\n",
       "      <td>OVERALL</td>\n",
       "      <td>OVR</td>\n",
       "      <td>None</td>\n",
       "      <td>None</td>\n",
       "      <td>None</td>\n",
       "      <td>None</td>\n",
       "    </tr>\n",
       "    <tr>\n",
       "      <td>9371</td>\n",
       "      <td>9369</td>\n",
       "      <td>6BEC61D0-E04B-44BA-8170-F7D6A4C40A09</td>\n",
       "      <td>9369</td>\n",
       "      <td>1527194523</td>\n",
       "      <td>959778</td>\n",
       "      <td>1527194523</td>\n",
       "      <td>959778</td>\n",
       "      <td>None</td>\n",
       "      <td>2016</td>\n",
       "      <td>2016</td>\n",
       "      <td>...</td>\n",
       "      <td>01</td>\n",
       "      <td>AST</td>\n",
       "      <td>AST1_1</td>\n",
       "      <td>CRDPREV</td>\n",
       "      <td>OVERALL</td>\n",
       "      <td>OVR</td>\n",
       "      <td>None</td>\n",
       "      <td>None</td>\n",
       "      <td>None</td>\n",
       "      <td>None</td>\n",
       "    </tr>\n",
       "    <tr>\n",
       "      <td>9374</td>\n",
       "      <td>9372</td>\n",
       "      <td>68F151CE-3084-402C-B672-78A43FBDE287</td>\n",
       "      <td>9372</td>\n",
       "      <td>1527194523</td>\n",
       "      <td>959778</td>\n",
       "      <td>1527194523</td>\n",
       "      <td>959778</td>\n",
       "      <td>None</td>\n",
       "      <td>2016</td>\n",
       "      <td>2016</td>\n",
       "      <td>...</td>\n",
       "      <td>05</td>\n",
       "      <td>AST</td>\n",
       "      <td>AST1_1</td>\n",
       "      <td>CRDPREV</td>\n",
       "      <td>OVERALL</td>\n",
       "      <td>OVR</td>\n",
       "      <td>None</td>\n",
       "      <td>None</td>\n",
       "      <td>None</td>\n",
       "      <td>None</td>\n",
       "    </tr>\n",
       "  </tbody>\n",
       "</table>\n",
       "<p>5 rows × 42 columns</p>\n",
       "</div>"
      ],
      "text/plain": [
       "       sid                                    id  position  created_at  \\\n",
       "9372  9370  5D6EDDA9-B241-4498-A262-ED20AB78C44C      9370  1527194523   \n",
       "9427  9425  332B0889-ED65-4080-9373-D92FE918CD1D      9425  1527194523   \n",
       "9426  9424  CD846EC4-617B-4D38-B287-88DCF9BA8751      9424  1527194523   \n",
       "9371  9369  6BEC61D0-E04B-44BA-8170-F7D6A4C40A09      9369  1527194523   \n",
       "9374  9372  68F151CE-3084-402C-B672-78A43FBDE287      9372  1527194523   \n",
       "\n",
       "     created_meta  updated_at updated_meta  meta YearStart YearEnd  ...  \\\n",
       "9372       959778  1527194523       959778  None      2016    2016  ...   \n",
       "9427       959778  1527194523       959778  None      2016    2016  ...   \n",
       "9426       959778  1527194523       959778  None      2016    2016  ...   \n",
       "9371       959778  1527194523       959778  None      2016    2016  ...   \n",
       "9374       959778  1527194523       959778  None      2016    2016  ...   \n",
       "\n",
       "     LocationID TopicID QuestionID DataValueTypeID StratificationCategoryID1  \\\n",
       "9372         02     AST     AST1_1         CRDPREV                   OVERALL   \n",
       "9427         02     AST     AST1_1      AGEADJPREV                   OVERALL   \n",
       "9426         01     AST     AST1_1      AGEADJPREV                   OVERALL   \n",
       "9371         01     AST     AST1_1         CRDPREV                   OVERALL   \n",
       "9374         05     AST     AST1_1         CRDPREV                   OVERALL   \n",
       "\n",
       "     StratificationID1 StratificationCategoryID2 StratificationID2  \\\n",
       "9372               OVR                      None              None   \n",
       "9427               OVR                      None              None   \n",
       "9426               OVR                      None              None   \n",
       "9371               OVR                      None              None   \n",
       "9374               OVR                      None              None   \n",
       "\n",
       "     StratificationCategoryID3 StratificationID3  \n",
       "9372                      None              None  \n",
       "9427                      None              None  \n",
       "9426                      None              None  \n",
       "9371                      None              None  \n",
       "9374                      None              None  \n",
       "\n",
       "[5 rows x 42 columns]"
      ]
     },
     "execution_count": 75,
     "metadata": {},
     "output_type": "execute_result"
    }
   ],
   "source": [
    "#Further subset\n",
    "view = df[(df.Question == 'Current asthma prevalence among adults aged >= 18 years')\n",
    "         & (df.StratificationCategoryID1 == 'OVERALL')]\n",
    "view = view.sort_values(by='LocationAbbr')\n",
    "print(view.shape)\n",
    "view.head()"
   ]
  },
  {
   "cell_type": "code",
   "execution_count": 76,
   "metadata": {},
   "outputs": [
    {
     "data": {
      "text/plain": [
       "CRDPREV       55\n",
       "AGEADJPREV    55\n",
       "Name: DataValueTypeID, dtype: int64"
      ]
     },
     "execution_count": 76,
     "metadata": {},
     "output_type": "execute_result"
    }
   ],
   "source": [
    "# look for duplicates\n",
    "view.DataValueTypeID.value_counts()"
   ]
  },
  {
   "cell_type": "code",
   "execution_count": 77,
   "metadata": {},
   "outputs": [
    {
     "name": "stdout",
     "output_type": "stream",
     "text": [
      "(55, 42)\n"
     ]
    },
    {
     "data": {
      "text/html": [
       "<div>\n",
       "<style scoped>\n",
       "    .dataframe tbody tr th:only-of-type {\n",
       "        vertical-align: middle;\n",
       "    }\n",
       "\n",
       "    .dataframe tbody tr th {\n",
       "        vertical-align: top;\n",
       "    }\n",
       "\n",
       "    .dataframe thead th {\n",
       "        text-align: right;\n",
       "    }\n",
       "</style>\n",
       "<table border=\"1\" class=\"dataframe\">\n",
       "  <thead>\n",
       "    <tr style=\"text-align: right;\">\n",
       "      <th></th>\n",
       "      <th>sid</th>\n",
       "      <th>id</th>\n",
       "      <th>position</th>\n",
       "      <th>created_at</th>\n",
       "      <th>created_meta</th>\n",
       "      <th>updated_at</th>\n",
       "      <th>updated_meta</th>\n",
       "      <th>meta</th>\n",
       "      <th>YearStart</th>\n",
       "      <th>YearEnd</th>\n",
       "      <th>...</th>\n",
       "      <th>LocationID</th>\n",
       "      <th>TopicID</th>\n",
       "      <th>QuestionID</th>\n",
       "      <th>DataValueTypeID</th>\n",
       "      <th>StratificationCategoryID1</th>\n",
       "      <th>StratificationID1</th>\n",
       "      <th>StratificationCategoryID2</th>\n",
       "      <th>StratificationID2</th>\n",
       "      <th>StratificationCategoryID3</th>\n",
       "      <th>StratificationID3</th>\n",
       "    </tr>\n",
       "  </thead>\n",
       "  <tbody>\n",
       "    <tr>\n",
       "      <td>9372</td>\n",
       "      <td>9370</td>\n",
       "      <td>5D6EDDA9-B241-4498-A262-ED20AB78C44C</td>\n",
       "      <td>9370</td>\n",
       "      <td>1527194523</td>\n",
       "      <td>959778</td>\n",
       "      <td>1527194523</td>\n",
       "      <td>959778</td>\n",
       "      <td>None</td>\n",
       "      <td>2016</td>\n",
       "      <td>2016</td>\n",
       "      <td>...</td>\n",
       "      <td>02</td>\n",
       "      <td>AST</td>\n",
       "      <td>AST1_1</td>\n",
       "      <td>CRDPREV</td>\n",
       "      <td>OVERALL</td>\n",
       "      <td>OVR</td>\n",
       "      <td>None</td>\n",
       "      <td>None</td>\n",
       "      <td>None</td>\n",
       "      <td>None</td>\n",
       "    </tr>\n",
       "    <tr>\n",
       "      <td>9371</td>\n",
       "      <td>9369</td>\n",
       "      <td>6BEC61D0-E04B-44BA-8170-F7D6A4C40A09</td>\n",
       "      <td>9369</td>\n",
       "      <td>1527194523</td>\n",
       "      <td>959778</td>\n",
       "      <td>1527194523</td>\n",
       "      <td>959778</td>\n",
       "      <td>None</td>\n",
       "      <td>2016</td>\n",
       "      <td>2016</td>\n",
       "      <td>...</td>\n",
       "      <td>01</td>\n",
       "      <td>AST</td>\n",
       "      <td>AST1_1</td>\n",
       "      <td>CRDPREV</td>\n",
       "      <td>OVERALL</td>\n",
       "      <td>OVR</td>\n",
       "      <td>None</td>\n",
       "      <td>None</td>\n",
       "      <td>None</td>\n",
       "      <td>None</td>\n",
       "    </tr>\n",
       "    <tr>\n",
       "      <td>9374</td>\n",
       "      <td>9372</td>\n",
       "      <td>68F151CE-3084-402C-B672-78A43FBDE287</td>\n",
       "      <td>9372</td>\n",
       "      <td>1527194523</td>\n",
       "      <td>959778</td>\n",
       "      <td>1527194523</td>\n",
       "      <td>959778</td>\n",
       "      <td>None</td>\n",
       "      <td>2016</td>\n",
       "      <td>2016</td>\n",
       "      <td>...</td>\n",
       "      <td>05</td>\n",
       "      <td>AST</td>\n",
       "      <td>AST1_1</td>\n",
       "      <td>CRDPREV</td>\n",
       "      <td>OVERALL</td>\n",
       "      <td>OVR</td>\n",
       "      <td>None</td>\n",
       "      <td>None</td>\n",
       "      <td>None</td>\n",
       "      <td>None</td>\n",
       "    </tr>\n",
       "    <tr>\n",
       "      <td>9373</td>\n",
       "      <td>9371</td>\n",
       "      <td>5FCE0D49-11FD-4545-B9E7-14F503123105</td>\n",
       "      <td>9371</td>\n",
       "      <td>1527194523</td>\n",
       "      <td>959778</td>\n",
       "      <td>1527194523</td>\n",
       "      <td>959778</td>\n",
       "      <td>None</td>\n",
       "      <td>2016</td>\n",
       "      <td>2016</td>\n",
       "      <td>...</td>\n",
       "      <td>04</td>\n",
       "      <td>AST</td>\n",
       "      <td>AST1_1</td>\n",
       "      <td>CRDPREV</td>\n",
       "      <td>OVERALL</td>\n",
       "      <td>OVR</td>\n",
       "      <td>None</td>\n",
       "      <td>None</td>\n",
       "      <td>None</td>\n",
       "      <td>None</td>\n",
       "    </tr>\n",
       "    <tr>\n",
       "      <td>9375</td>\n",
       "      <td>9373</td>\n",
       "      <td>D3F00ED2-A069-4E40-B42B-5A2528A91B6F</td>\n",
       "      <td>9373</td>\n",
       "      <td>1527194523</td>\n",
       "      <td>959778</td>\n",
       "      <td>1527194523</td>\n",
       "      <td>959778</td>\n",
       "      <td>None</td>\n",
       "      <td>2016</td>\n",
       "      <td>2016</td>\n",
       "      <td>...</td>\n",
       "      <td>06</td>\n",
       "      <td>AST</td>\n",
       "      <td>AST1_1</td>\n",
       "      <td>CRDPREV</td>\n",
       "      <td>OVERALL</td>\n",
       "      <td>OVR</td>\n",
       "      <td>None</td>\n",
       "      <td>None</td>\n",
       "      <td>None</td>\n",
       "      <td>None</td>\n",
       "    </tr>\n",
       "  </tbody>\n",
       "</table>\n",
       "<p>5 rows × 42 columns</p>\n",
       "</div>"
      ],
      "text/plain": [
       "       sid                                    id  position  created_at  \\\n",
       "9372  9370  5D6EDDA9-B241-4498-A262-ED20AB78C44C      9370  1527194523   \n",
       "9371  9369  6BEC61D0-E04B-44BA-8170-F7D6A4C40A09      9369  1527194523   \n",
       "9374  9372  68F151CE-3084-402C-B672-78A43FBDE287      9372  1527194523   \n",
       "9373  9371  5FCE0D49-11FD-4545-B9E7-14F503123105      9371  1527194523   \n",
       "9375  9373  D3F00ED2-A069-4E40-B42B-5A2528A91B6F      9373  1527194523   \n",
       "\n",
       "     created_meta  updated_at updated_meta  meta YearStart YearEnd  ...  \\\n",
       "9372       959778  1527194523       959778  None      2016    2016  ...   \n",
       "9371       959778  1527194523       959778  None      2016    2016  ...   \n",
       "9374       959778  1527194523       959778  None      2016    2016  ...   \n",
       "9373       959778  1527194523       959778  None      2016    2016  ...   \n",
       "9375       959778  1527194523       959778  None      2016    2016  ...   \n",
       "\n",
       "     LocationID TopicID QuestionID DataValueTypeID StratificationCategoryID1  \\\n",
       "9372         02     AST     AST1_1         CRDPREV                   OVERALL   \n",
       "9371         01     AST     AST1_1         CRDPREV                   OVERALL   \n",
       "9374         05     AST     AST1_1         CRDPREV                   OVERALL   \n",
       "9373         04     AST     AST1_1         CRDPREV                   OVERALL   \n",
       "9375         06     AST     AST1_1         CRDPREV                   OVERALL   \n",
       "\n",
       "     StratificationID1 StratificationCategoryID2 StratificationID2  \\\n",
       "9372               OVR                      None              None   \n",
       "9371               OVR                      None              None   \n",
       "9374               OVR                      None              None   \n",
       "9373               OVR                      None              None   \n",
       "9375               OVR                      None              None   \n",
       "\n",
       "     StratificationCategoryID3 StratificationID3  \n",
       "9372                      None              None  \n",
       "9371                      None              None  \n",
       "9374                      None              None  \n",
       "9373                      None              None  \n",
       "9375                      None              None  \n",
       "\n",
       "[5 rows x 42 columns]"
      ]
     },
     "execution_count": 77,
     "metadata": {},
     "output_type": "execute_result"
    }
   ],
   "source": [
    "view = df[(df.Question == 'Current asthma prevalence among adults aged >= 18 years')\n",
    "         & (df.StratificationCategoryID1 == 'OVERALL')\n",
    "         & (df.DataValueTypeID == 'CRDPREV')]\n",
    "view = view.sort_values(by='LocationAbbr')\n",
    "print(view.shape)\n",
    "view.head()"
   ]
  },
  {
   "cell_type": "code",
   "execution_count": 78,
   "metadata": {},
   "outputs": [],
   "source": [
    "import matplotlib.pyplot as plt\n",
    "%matplotlib inline"
   ]
  },
  {
   "cell_type": "code",
   "execution_count": 80,
   "metadata": {},
   "outputs": [
    {
     "data": {
      "text/plain": [
       "Text(0.5, 0, 'State')"
      ]
     },
     "execution_count": 80,
     "metadata": {},
     "output_type": "execute_result"
    },
    {
     "data": {
      "image/png": "[encoded data removed]",
      "text/plain": [
       "<Figure size 1440x720 with 1 Axes>"
      ]
     },
     "metadata": {
      "needs_background": "light"
     },
     "output_type": "display_data"
    }
   ],
   "source": [
    "view.DataValue = view.DataValue.astype(float)\n",
    "view = view.sort_values(by='DataValue')\n",
    "view.set_index('LocationAbbr')['DataValue'].plot(kind='bar', figsize=(20,10))\n",
    "plt.title('Asthma Rates by State 2016')\n",
    "plt.ylabel('Percent 18+ with Asthma')\n",
    "plt.xlabel('State')"
   ]
  },
  {
   "cell_type": "markdown",
   "metadata": {},
   "source": [
    "## Summary\n",
    "\n",
    "Well done! In this lab you got some extended practice exploring the structure of JSON files, converting json files to pandas DataFrame, and visualizing data!"
   ]
  },
  {
   "cell_type": "code",
   "execution_count": null,
   "metadata": {},
   "outputs": [],
   "source": []
  },
  {
   "cell_type": "code",
   "execution_count": null,
   "metadata": {},
   "outputs": [],
   "source": []
  },
  {
   "cell_type": "code",
   "execution_count": null,
   "metadata": {},
   "outputs": [],
   "source": []
  }
 ],
 "metadata": {
  "kernelspec": {
   "display_name": "Python 3",
   "language": "python",
   "name": "python3"
  },
  "language_info": {
   "codemirror_mode": {
    "name": "ipython",
    "version": 3
   },
   "file_extension": ".py",
   "mimetype": "text/x-python",
   "name": "python",
   "nbconvert_exporter": "python",
   "pygments_lexer": "ipython3",
   "version": "3.7.4"
  },
  "toc": {
   "base_numbering": 1,
   "nav_menu": {},
   "number_sections": true,
   "sideBar": true,
   "skip_h1_title": false,
   "title_cell": "Table of Contents",
   "title_sidebar": "Contents",
   "toc_cell": false,
   "toc_position": {},
   "toc_section_display": true,
   "toc_window_display": false
  }
 },
 "nbformat": 4,
 "nbformat_minor": 2
}
